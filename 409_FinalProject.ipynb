{
 "cells": [
  {
   "cell_type": "markdown",
   "id": "e5753e8d",
   "metadata": {},
   "source": [
    "# ECON 409: Final Project\n",
    "#### Courtney Manhart, Tanner Woods, Lindsay Mahowald, and Martin Jamouss"
   ]
  },
  {
   "cell_type": "code",
   "execution_count": 1,
   "id": "bdbec035",
   "metadata": {},
   "outputs": [],
   "source": [
    "# Import Necessary Packages\n",
    "import yfinance as yf \n",
    "import matplotlib.pyplot as plt\n",
    "import pandas as pd\n",
    "import numpy as np\n",
    "import datetime\n",
    "import io\n",
    "import matplotlib.lines as mlines\n",
    "import statsmodels.formula.api as smf \n",
    "from statsmodels.tsa.arima.model import ARIMA\n",
    "import scipy.stats as st\n",
    "import warnings\n",
    "%matplotlib inline\n",
    "warnings.filterwarnings('ignore')\n",
    "\n",
    "from statsmodels.graphics.tsaplots import plot_acf, plot_pacf\n",
    "from statsmodels.tsa.arima_process import ArmaProcess \n",
    "import pmdarima as pm \n",
    "from statsmodels.graphics.tsaplots import plot_predict"
   ]
  },
  {
   "cell_type": "markdown",
   "id": "c239799e",
   "metadata": {},
   "source": [
    "### Import the Data: Choose one or more series of economic fundamentals to use for generating exchange rate forecasts. The forecasts of the asset price may be directional or point forecasts\n",
    "\n",
    "###### Economic Fundamentals of Interest: Interest Rate, Inflation, Unemployment (CHOOSE WHICH ONES TO USE)"
   ]
  },
  {
   "cell_type": "code",
   "execution_count": 8,
   "id": "42388267",
   "metadata": {},
   "outputs": [
    {
     "data": {
      "text/html": [
       "<div>\n",
       "<style scoped>\n",
       "    .dataframe tbody tr th:only-of-type {\n",
       "        vertical-align: middle;\n",
       "    }\n",
       "\n",
       "    .dataframe tbody tr th {\n",
       "        vertical-align: top;\n",
       "    }\n",
       "\n",
       "    .dataframe thead th {\n",
       "        text-align: right;\n",
       "    }\n",
       "</style>\n",
       "<table border=\"1\" class=\"dataframe\">\n",
       "  <thead>\n",
       "    <tr style=\"text-align: right;\">\n",
       "      <th></th>\n",
       "      <th>United States Interest</th>\n",
       "      <th>United Kingdom Interest</th>\n",
       "      <th>United States Inflation</th>\n",
       "      <th>United Kingdom Inflation</th>\n",
       "      <th>United States Unemployment</th>\n",
       "      <th>United Kingdom Unemployment</th>\n",
       "      <th>DEXUSUK</th>\n",
       "    </tr>\n",
       "  </thead>\n",
       "  <tbody>\n",
       "    <tr>\n",
       "      <th>1983-02-01</th>\n",
       "      <td>8.54</td>\n",
       "      <td>11.3338</td>\n",
       "      <td>0.037076</td>\n",
       "      <td>0.049259</td>\n",
       "      <td>10.4</td>\n",
       "      <td>10.7</td>\n",
       "      <td>1.5115</td>\n",
       "    </tr>\n",
       "    <tr>\n",
       "      <th>1983-03-01</th>\n",
       "      <td>8.69</td>\n",
       "      <td>10.9757</td>\n",
       "      <td>0.034847</td>\n",
       "      <td>0.053428</td>\n",
       "      <td>10.4</td>\n",
       "      <td>10.8</td>\n",
       "      <td>1.4825</td>\n",
       "    </tr>\n",
       "    <tr>\n",
       "      <th>1983-04-01</th>\n",
       "      <td>8.63</td>\n",
       "      <td>10.2616</td>\n",
       "      <td>0.035903</td>\n",
       "      <td>0.046267</td>\n",
       "      <td>10.3</td>\n",
       "      <td>10.8</td>\n",
       "      <td>1.5573</td>\n",
       "    </tr>\n",
       "    <tr>\n",
       "      <th>1983-05-01</th>\n",
       "      <td>8.49</td>\n",
       "      <td>10.2593</td>\n",
       "      <td>0.040000</td>\n",
       "      <td>0.040038</td>\n",
       "      <td>10.2</td>\n",
       "      <td>11.0</td>\n",
       "      <td>1.6005</td>\n",
       "    </tr>\n",
       "    <tr>\n",
       "      <th>1983-06-01</th>\n",
       "      <td>9.20</td>\n",
       "      <td>9.9384</td>\n",
       "      <td>0.034411</td>\n",
       "      <td>0.036957</td>\n",
       "      <td>10.1</td>\n",
       "      <td>10.9</td>\n",
       "      <td>1.5330</td>\n",
       "    </tr>\n",
       "    <tr>\n",
       "      <th>...</th>\n",
       "      <td>...</td>\n",
       "      <td>...</td>\n",
       "      <td>...</td>\n",
       "      <td>...</td>\n",
       "      <td>...</td>\n",
       "      <td>...</td>\n",
       "      <td>...</td>\n",
       "    </tr>\n",
       "    <tr>\n",
       "      <th>2022-07-01</th>\n",
       "      <td>2.50</td>\n",
       "      <td>1.8400</td>\n",
       "      <td>0.089330</td>\n",
       "      <td>0.081688</td>\n",
       "      <td>3.6</td>\n",
       "      <td>3.6</td>\n",
       "      <td>1.2183</td>\n",
       "    </tr>\n",
       "    <tr>\n",
       "      <th>2022-08-01</th>\n",
       "      <td>2.76</td>\n",
       "      <td>2.2300</td>\n",
       "      <td>0.084132</td>\n",
       "      <td>0.087971</td>\n",
       "      <td>3.5</td>\n",
       "      <td>3.5</td>\n",
       "      <td>1.1647</td>\n",
       "    </tr>\n",
       "    <tr>\n",
       "      <th>2022-09-01</th>\n",
       "      <td>3.21</td>\n",
       "      <td>2.9100</td>\n",
       "      <td>0.082274</td>\n",
       "      <td>0.086530</td>\n",
       "      <td>3.7</td>\n",
       "      <td>3.6</td>\n",
       "      <td>1.1134</td>\n",
       "    </tr>\n",
       "    <tr>\n",
       "      <th>2022-10-01</th>\n",
       "      <td>3.85</td>\n",
       "      <td>3.3900</td>\n",
       "      <td>0.082149</td>\n",
       "      <td>0.088078</td>\n",
       "      <td>3.5</td>\n",
       "      <td>3.7</td>\n",
       "      <td>1.1515</td>\n",
       "    </tr>\n",
       "    <tr>\n",
       "      <th>2022-11-01</th>\n",
       "      <td>4.46</td>\n",
       "      <td>3.5200</td>\n",
       "      <td>0.077625</td>\n",
       "      <td>0.096120</td>\n",
       "      <td>3.7</td>\n",
       "      <td>3.7</td>\n",
       "      <td>1.1962</td>\n",
       "    </tr>\n",
       "  </tbody>\n",
       "</table>\n",
       "<p>478 rows × 7 columns</p>\n",
       "</div>"
      ],
      "text/plain": [
       "            United States Interest  United Kingdom Interest  \\\n",
       "1983-02-01                    8.54                  11.3338   \n",
       "1983-03-01                    8.69                  10.9757   \n",
       "1983-04-01                    8.63                  10.2616   \n",
       "1983-05-01                    8.49                  10.2593   \n",
       "1983-06-01                    9.20                   9.9384   \n",
       "...                            ...                      ...   \n",
       "2022-07-01                    2.50                   1.8400   \n",
       "2022-08-01                    2.76                   2.2300   \n",
       "2022-09-01                    3.21                   2.9100   \n",
       "2022-10-01                    3.85                   3.3900   \n",
       "2022-11-01                    4.46                   3.5200   \n",
       "\n",
       "            United States Inflation  United Kingdom Inflation  \\\n",
       "1983-02-01                 0.037076                  0.049259   \n",
       "1983-03-01                 0.034847                  0.053428   \n",
       "1983-04-01                 0.035903                  0.046267   \n",
       "1983-05-01                 0.040000                  0.040038   \n",
       "1983-06-01                 0.034411                  0.036957   \n",
       "...                             ...                       ...   \n",
       "2022-07-01                 0.089330                  0.081688   \n",
       "2022-08-01                 0.084132                  0.087971   \n",
       "2022-09-01                 0.082274                  0.086530   \n",
       "2022-10-01                 0.082149                  0.088078   \n",
       "2022-11-01                 0.077625                  0.096120   \n",
       "\n",
       "            United States Unemployment  United Kingdom Unemployment  DEXUSUK  \n",
       "1983-02-01                        10.4                         10.7   1.5115  \n",
       "1983-03-01                        10.4                         10.8   1.4825  \n",
       "1983-04-01                        10.3                         10.8   1.5573  \n",
       "1983-05-01                        10.2                         11.0   1.6005  \n",
       "1983-06-01                        10.1                         10.9   1.5330  \n",
       "...                                ...                          ...      ...  \n",
       "2022-07-01                         3.6                          3.6   1.2183  \n",
       "2022-08-01                         3.5                          3.5   1.1647  \n",
       "2022-09-01                         3.7                          3.6   1.1134  \n",
       "2022-10-01                         3.5                          3.7   1.1515  \n",
       "2022-11-01                         3.7                          3.7   1.1962  \n",
       "\n",
       "[478 rows x 7 columns]"
      ]
     },
     "execution_count": 8,
     "metadata": {},
     "output_type": "execute_result"
    }
   ],
   "source": [
    "# The following data includes:\n",
    "    # US & UK interest rates\n",
    "    # US & UK inflation rates\n",
    "    # US & UK unemployment rates\n",
    "    # Exchange Rate of the US dollar and British Pound\n",
    "\n",
    "data = pd.read_csv('final_project_data.csv', index_col = 0, parse_dates = True)\n",
    "data"
   ]
  },
  {
   "cell_type": "code",
   "execution_count": 11,
   "id": "3bc8bdd1",
   "metadata": {},
   "outputs": [
    {
     "data": {
      "text/html": [
       "<div>\n",
       "<style scoped>\n",
       "    .dataframe tbody tr th:only-of-type {\n",
       "        vertical-align: middle;\n",
       "    }\n",
       "\n",
       "    .dataframe tbody tr th {\n",
       "        vertical-align: top;\n",
       "    }\n",
       "\n",
       "    .dataframe thead th {\n",
       "        text-align: right;\n",
       "    }\n",
       "</style>\n",
       "<table border=\"1\" class=\"dataframe\">\n",
       "  <thead>\n",
       "    <tr style=\"text-align: right;\">\n",
       "      <th></th>\n",
       "      <th>rfr</th>\n",
       "    </tr>\n",
       "    <tr>\n",
       "      <th>date</th>\n",
       "      <th></th>\n",
       "    </tr>\n",
       "  </thead>\n",
       "  <tbody>\n",
       "    <tr>\n",
       "      <th>1962-01-02</th>\n",
       "      <td>0.0322</td>\n",
       "    </tr>\n",
       "    <tr>\n",
       "      <th>1962-01-03</th>\n",
       "      <td>0.0324</td>\n",
       "    </tr>\n",
       "    <tr>\n",
       "      <th>1962-01-04</th>\n",
       "      <td>0.0324</td>\n",
       "    </tr>\n",
       "    <tr>\n",
       "      <th>1962-01-05</th>\n",
       "      <td>0.0326</td>\n",
       "    </tr>\n",
       "    <tr>\n",
       "      <th>1962-01-08</th>\n",
       "      <td>0.0331</td>\n",
       "    </tr>\n",
       "    <tr>\n",
       "      <th>...</th>\n",
       "      <td>...</td>\n",
       "    </tr>\n",
       "    <tr>\n",
       "      <th>2023-01-08</th>\n",
       "      <td>0.0464</td>\n",
       "    </tr>\n",
       "    <tr>\n",
       "      <th>2023-01-09</th>\n",
       "      <td>0.0464</td>\n",
       "    </tr>\n",
       "    <tr>\n",
       "      <th>2023-01-10</th>\n",
       "      <td>0.0464</td>\n",
       "    </tr>\n",
       "    <tr>\n",
       "      <th>2023-01-11</th>\n",
       "      <td>0.0464</td>\n",
       "    </tr>\n",
       "    <tr>\n",
       "      <th>2023-01-12</th>\n",
       "      <td>0.0464</td>\n",
       "    </tr>\n",
       "  </tbody>\n",
       "</table>\n",
       "<p>15270 rows × 1 columns</p>\n",
       "</div>"
      ],
      "text/plain": [
       "               rfr\n",
       "date              \n",
       "1962-01-02  0.0322\n",
       "1962-01-03  0.0324\n",
       "1962-01-04  0.0324\n",
       "1962-01-05  0.0326\n",
       "1962-01-08  0.0331\n",
       "...            ...\n",
       "2023-01-08  0.0464\n",
       "2023-01-09  0.0464\n",
       "2023-01-10  0.0464\n",
       "2023-01-11  0.0464\n",
       "2023-01-12  0.0464\n",
       "\n",
       "[15270 rows x 1 columns]"
      ]
     },
     "execution_count": 11,
     "metadata": {},
     "output_type": "execute_result"
    }
   ],
   "source": [
    "# Import Risk-Free Rate from the treasurey yields\n",
    "rf_rate = pd.read_csv('1-year-treasury-rate-yield-chart.csv', \n",
    "                       index_col = 0, parse_dates = True).ffill()\n",
    "rf_rate.columns = ['rfr']\n",
    "rf_rate = rf_rate / 100\n",
    "rf_rate"
   ]
  },
  {
   "cell_type": "markdown",
   "id": "ed030acc",
   "metadata": {},
   "source": [
    "### Outline Trading Rules based on these forecasts:\n",
    "- Long/short positions\n",
    "- exiting positions"
   ]
  },
  {
   "cell_type": "code",
   "execution_count": null,
   "id": "fe42fc00",
   "metadata": {},
   "outputs": [],
   "source": [
    "### Long / Short Postions:\n",
    "    # Long:\n",
    "    # Short: \n",
    "\n",
    "\n",
    "    \n",
    "    \n",
    "    \n",
    "# Exiting Positions:\n"
   ]
  },
  {
   "cell_type": "markdown",
   "id": "ecd8fbb9",
   "metadata": {},
   "source": [
    "### Optimize at least 2 strategy Hyperparameters:\n",
    "- length of holding period\n",
    "- model hyperparameters (alpha for lasso, number of lags to include, rolling window size, etc)"
   ]
  },
  {
   "cell_type": "code",
   "execution_count": null,
   "id": "0d391094",
   "metadata": {},
   "outputs": [],
   "source": [
    "# specify candidate values for hyperparameters\n",
    "ks = np.linspace(0.1, .99, 10)\n",
    "zs = np.linspace(0.1, 3, 7)\n",
    "ws = np.arange(7, 100, 7)\n",
    "hs = np.arange(1, 100, 7)\n",
    "\n",
    "import itertools as it\n",
    "# build a grid with all possible hyperparameters\n",
    "grid = np.array(np.meshgrid(ks,zs, ws)).T.reshape(-1,3)\n",
    "\n",
    "grid"
   ]
  },
  {
   "cell_type": "code",
   "execution_count": null,
   "id": "7c270f2e",
   "metadata": {},
   "outputs": [],
   "source": [
    "storage = pd.DataFrame(columns = [\"k\", \"z\", \"w\", \"h\", \"profits\"])\n",
    "\n",
    "# Loop through all grid values to find optimal \n",
    "\n",
    "\n"
   ]
  },
  {
   "cell_type": "code",
   "execution_count": null,
   "id": "55498ea0",
   "metadata": {},
   "outputs": [],
   "source": [
    "# Sorting the Storage DataFrame \n",
    "storage = storage.sort_values(by = \"profits\").reset_index(drop = True)\n",
    "storage"
   ]
  },
  {
   "cell_type": "markdown",
   "id": "61fda956",
   "metadata": {},
   "source": [
    "### Visualize Optimization process using a heatmap"
   ]
  },
  {
   "cell_type": "code",
   "execution_count": 4,
   "id": "a174463b",
   "metadata": {},
   "outputs": [],
   "source": [
    "# Heatmaps\n",
    "\n",
    "def heatmap(x, y, metric, values):\n",
    "    \n",
    "    # specify the columns I will be pulling from the results\n",
    "    p2p = values[[x, y, metric]]\n",
    "    \n",
    "    # If p > 2, we need to group \n",
    "    heat = np.round(p2p.groupby([x,y]).max(),1)\n",
    "    heat = heat.unstack()[metric]\n",
    "\n",
    "    # round labels\n",
    "    heat.index = np.round(heat.index,2)\n",
    "    heat.columns = np.round(heat.columns,2)\n",
    "\n",
    "    # make plot\n",
    "    f, ax = plt.subplots(figsize=(15, 8))\n",
    "    ax = sns.heatmap(heat, fmt='.1g')\n",
    "    ax.set_title(\"Heat map of \"+ metric,size = 15)\n",
    "    ax.tick_params(axis='both', which='major', labelsize=10)\n",
    "    ax.set_xlabel(y, size = 15)\n",
    "    ax.set_ylabel(x, size = 15)\n",
    "    ax.collections[0].colorbar.set_label(metric, size = 15)\n",
    "    sns.set(font_scale=1)\n",
    "    plt.show()"
   ]
  },
  {
   "cell_type": "code",
   "execution_count": null,
   "id": "7255be1c",
   "metadata": {},
   "outputs": [],
   "source": [
    "# Heatmap for Hyperparameters\n",
    "heatmap()"
   ]
  },
  {
   "cell_type": "markdown",
   "id": "f3dc2b7f",
   "metadata": {},
   "source": [
    "### Trading Strategy: using the optimal results"
   ]
  },
  {
   "cell_type": "code",
   "execution_count": null,
   "id": "18d40da4",
   "metadata": {},
   "outputs": [],
   "source": [
    "# According to the tables, the set of hyper-parameters that\n",
    "    # produce the largest profits are:\n",
    "print(blue('Final Hyper-Parameters:', ['bold']))\n",
    "k, z, w, h, p = storage.iloc[-1]\n",
    "print('k:', k)\n",
    "print('z:', z)\n",
    "print('w:', w)\n",
    "print('h:', h)\n",
    "print('Profits:', p)"
   ]
  },
  {
   "cell_type": "code",
   "execution_count": null,
   "id": "e7c4c4d4",
   "metadata": {},
   "outputs": [],
   "source": []
  },
  {
   "cell_type": "code",
   "execution_count": null,
   "id": "4ff52357",
   "metadata": {},
   "outputs": [],
   "source": []
  },
  {
   "cell_type": "markdown",
   "id": "b169ca28",
   "metadata": {},
   "source": [
    "### Produce Equity Curve over a backtest"
   ]
  },
  {
   "cell_type": "code",
   "execution_count": null,
   "id": "7e52af70",
   "metadata": {},
   "outputs": [],
   "source": [
    "# Visulizing the Exchange Rate, the Kalman CI, Long & Short Positions\n",
    "\n"
   ]
  },
  {
   "cell_type": "code",
   "execution_count": null,
   "id": "9a346df3",
   "metadata": {},
   "outputs": [],
   "source": [
    "### Plotting the Trading Positions \n",
    "\n"
   ]
  },
  {
   "cell_type": "code",
   "execution_count": null,
   "id": "60f4558e",
   "metadata": {},
   "outputs": [],
   "source": [
    "## Plotting the Equity Curve\n",
    "plt.figure(figsize = (15, 5))\n",
    "sns.set_style(\"white\")\n",
    "(test_copy[\"cumulative_returns\"]).plot()\n",
    "\n",
    "plt.title(\"Price Earnings Strategy:\"+ \", Z = \"+str(z) + \", w = \" + str(w)+ \", k = \" + str(k))\n",
    "\n",
    "\n",
    "\n",
    "plt.legend([\"Equity Curve\"])\n",
    "\n",
    "plt.grid()"
   ]
  },
  {
   "cell_type": "code",
   "execution_count": null,
   "id": "a73e1328",
   "metadata": {},
   "outputs": [],
   "source": []
  },
  {
   "cell_type": "markdown",
   "id": "8fc9d1e2",
   "metadata": {},
   "source": [
    "### Use the Binomial Test (directional forecast) or the DMW Test (point forecast) "
   ]
  },
  {
   "cell_type": "code",
   "execution_count": null,
   "id": "a0f4d0f0",
   "metadata": {},
   "outputs": [],
   "source": []
  },
  {
   "cell_type": "markdown",
   "id": "c1eae200",
   "metadata": {},
   "source": [
    "### Produce table with HFRI Metrics to evaluare the strategy's performance"
   ]
  },
  {
   "cell_type": "markdown",
   "id": "4a9fff82",
   "metadata": {},
   "source": [
    "#### Setting up the Tables:"
   ]
  },
  {
   "cell_type": "code",
   "execution_count": null,
   "id": "7fe492b8",
   "metadata": {},
   "outputs": [],
   "source": [
    "## Risk/Return Table\n",
    "index = ['Geo. Average Monthly', 'Std. Deviation', 'High Month',\n",
    "        'Low Month', 'Annualized Return', 'Annualized STD', \n",
    "        'Risk Free Rate', 'Sharpe Ratio', '% of Winning Mo.',\n",
    "        'Max Drawdown']\n",
    "columns = ['Strategy']\n",
    "risk_return_table = pd.DataFrame(index = index, columns = columns)"
   ]
  },
  {
   "cell_type": "code",
   "execution_count": null,
   "id": "019c85d4",
   "metadata": {},
   "outputs": [],
   "source": [
    "## Regresssion Table:\n",
    "index = ['Alpha', 'Beta', 'Mnt. R-Squared', 'Correlation', \n",
    "         'Up Alpha', 'Up Beta', 'Up R-Squared', 'Down Alpha',\n",
    "        'Down Beta', 'Down R-Squared']\n",
    "columns = ['Strategy']\n",
    "reg_table = pd.DataFrame(index = index, columns = columns)"
   ]
  },
  {
   "cell_type": "markdown",
   "id": "1111d3e0",
   "metadata": {},
   "source": [
    "#### Regression Results -- Use Monthly returns except for Sharpe Ratio (use annual returns)"
   ]
  },
  {
   "cell_type": "markdown",
   "id": "d6a56262",
   "metadata": {},
   "source": [
    "*Alpha & Beta*"
   ]
  },
  {
   "cell_type": "code",
   "execution_count": null,
   "id": "1ad3b715",
   "metadata": {},
   "outputs": [],
   "source": [
    "## Downloading Market Rate & risk-free rate\n",
    "    # Market Rate: S&P 500 (from yfinance)\n",
    "    # Risk-Free Rate: 1-year treasury rates (using csv from class)\n",
    "\n",
    "# Market\n",
    "market = yf.download('^GSPC')\n",
    "\n",
    "\n",
    "# Risk-Free Rate\n",
    "\n",
    "\n",
    "# Calculating Excess Returns\n",
    "    # Strategy Excess Returns: Strategy - Risk Free Rate\n",
    "    # Market Excess Returns: Market - Risk Free Rate\n",
    "\n",
    "    \n",
    "# Run an OLS Regression: Strategy Excess Returns ~ Market Excess Returns \n",
    "ols = smf.ols('', data = ).fit()\n",
    "ols.summary()"
   ]
  },
  {
   "cell_type": "code",
   "execution_count": null,
   "id": "fda128ef",
   "metadata": {},
   "outputs": [],
   "source": [
    "### Determining Alpha & Beta\n",
    "alpha = ols.params[0] # Intercept\n",
    "beta = ols.params[1] # Slope\n",
    "\n",
    "# Adding Alpha & Beta to the DataFrame\n",
    "reg_table.at['Alpha', 'Strategy'] = alpha\n",
    "reg_table.at['Beta', 'Strategy'] = beta"
   ]
  },
  {
   "cell_type": "markdown",
   "id": "d285e2f0",
   "metadata": {},
   "source": [
    "*Mnt. R-Squared*"
   ]
  },
  {
   "cell_type": "code",
   "execution_count": null,
   "id": "fc15b824",
   "metadata": {},
   "outputs": [],
   "source": [
    "# Getting R-Squared from the above Regression\n",
    "r_sq = ols.rsquared\n",
    "\n",
    "# Adding R-Squared to the DataFrame\n",
    "reg_table.at['Mnt. R-Squared', 'Strategy'] = r_sq"
   ]
  },
  {
   "cell_type": "markdown",
   "id": "f62f8bb2",
   "metadata": {},
   "source": [
    "*Correlation*"
   ]
  },
  {
   "cell_type": "code",
   "execution_count": null,
   "id": "c5ee5412",
   "metadata": {},
   "outputs": [],
   "source": []
  },
  {
   "cell_type": "code",
   "execution_count": null,
   "id": "a23c11a1",
   "metadata": {},
   "outputs": [],
   "source": [
    "reg_table.at['Correlation', 'Strategy'] = corr"
   ]
  },
  {
   "cell_type": "markdown",
   "id": "e390036c",
   "metadata": {},
   "source": [
    "*Up Alpha, Up Beta & Up R-Squared* <br>\n",
    "- Up: When the S&P 500 yielded a higher than 0% return"
   ]
  },
  {
   "cell_type": "code",
   "execution_count": null,
   "id": "3f90517c",
   "metadata": {},
   "outputs": [],
   "source": [
    "# Subset the data to only positive returns in the S&P 500\n",
    "updf = df[df.GSPC > 0]\n",
    "\n",
    "# Run the Regression\n",
    "ols_up = smf.ols('', data = updf).fit()\n",
    "ols_up.summary()"
   ]
  },
  {
   "cell_type": "code",
   "execution_count": null,
   "id": "39dd036b",
   "metadata": {},
   "outputs": [],
   "source": [
    "## Determining Up Alpha, Up Beta, and Up R-Squared\n",
    "up_alpha = ols_up.params[0]  # Intercept\n",
    "up_beta = ols_up.params[1]   # Slope Coefficient\n",
    "up_r_sq = ols_up.rsquared\n",
    "\n",
    "# Adding Up Alpha, Up Beta, and Up R-Squared to the DataFrame\n",
    "reg_table.at['Up Alpha', 'Strategy'] = up_alpha\n",
    "reg_table.at['Up Beta', 'Strategy'] = up_beta\n",
    "reg_table.at['Up R-Squared', 'Strategy'] = up_r_sq"
   ]
  },
  {
   "cell_type": "markdown",
   "id": "35e2d89b",
   "metadata": {},
   "source": [
    "*Down Alpha, Down Beta & Down R-Squared*\n",
    "- Down: When the S&P 500 yielded a lower than 0% Return"
   ]
  },
  {
   "cell_type": "code",
   "execution_count": null,
   "id": "63cab86e",
   "metadata": {},
   "outputs": [],
   "source": [
    "# Subset the data to only negative returns in the S&P 500\n",
    "downdf = df[df.GSPC < 0]\n",
    "\n",
    "# Run the Regression\n",
    "ols_down = smf.ols('', data = downdf).fit()\n",
    "ols_down.summary()"
   ]
  },
  {
   "cell_type": "code",
   "execution_count": null,
   "id": "589781d7",
   "metadata": {},
   "outputs": [],
   "source": [
    "## Determining Down Alpha, Down Beta, and Down R-Squared\n",
    "down_alpha = ols_down.params[0]  # Intercept\n",
    "down_beta = ols_down.params[1]   # Slope Coefficient\n",
    "down_r_sq = ols_down.rsquared\n",
    "\n",
    "# Adding Down Alpha, Down Beta, and Down R-Squared to the DataFrame\n",
    "reg_table.at['Down Alpha', 'Strategy'] = down_alpha\n",
    "reg_table.at['Down Beta', 'Strategy'] = down_beta\n",
    "reg_table.at['Down R-Squared', 'Strategy'] = dow_r_sq"
   ]
  },
  {
   "cell_type": "markdown",
   "id": "a6c837eb",
   "metadata": {},
   "source": [
    "#### Risk/Return Results"
   ]
  },
  {
   "cell_type": "markdown",
   "id": "f1f179c5",
   "metadata": {},
   "source": [
    "*Geometric Average Monthly & Standard Deviation*"
   ]
  },
  {
   "cell_type": "code",
   "execution_count": null,
   "id": "78e9f8bb",
   "metadata": {},
   "outputs": [],
   "source": [
    "# Calculating the Geometric Average\n",
    "n = len(returns)\n",
    "geo_avg = ((returns + 1).prod() ** (1/n)) - 1\n",
    "\n",
    "# Calculating the Standard Deviation of the Returns\n",
    "stdev = returns.std()"
   ]
  },
  {
   "cell_type": "code",
   "execution_count": null,
   "id": "54292be3",
   "metadata": {},
   "outputs": [],
   "source": [
    "risk_retun_table.at['Geo. Average Monthly', 'Strategy'] = geo_avg\n",
    "risk_retun_table.at['Std. Deviation', 'Strategy'] = stdev"
   ]
  },
  {
   "cell_type": "markdown",
   "id": "f6abcdea",
   "metadata": {},
   "source": [
    "*High Month & Low Month*"
   ]
  },
  {
   "cell_type": "code",
   "execution_count": null,
   "id": "55237a9d",
   "metadata": {},
   "outputs": [],
   "source": []
  },
  {
   "cell_type": "code",
   "execution_count": null,
   "id": "431e1d46",
   "metadata": {},
   "outputs": [],
   "source": [
    "risk_retun_table.at['High Month', 'Strategy'] = high_month\n",
    "risk_retun_table.at['Low Month', 'Strategy'] = low_month"
   ]
  },
  {
   "cell_type": "markdown",
   "id": "c49e1da2",
   "metadata": {},
   "source": [
    "*Annualized Return & Standard Deviation*"
   ]
  },
  {
   "cell_type": "code",
   "execution_count": null,
   "id": "51684cfd",
   "metadata": {},
   "outputs": [],
   "source": [
    "## Calculating Annualized Returns\n",
    "ann_returns = ((returns + 1).resample('Y').prod() ** (1/12)) - 1\n",
    "\n",
    "# Average Annualized Return \n",
    "t = len(ann_returns)\n",
    "ann_ret = ((ann_returns + 1).prod() ** (1/t)) - 1\n",
    "\n",
    "# Calculating the Annualized Standard Deviation\n",
    "ann_std = ann_returns.std()"
   ]
  },
  {
   "cell_type": "code",
   "execution_count": null,
   "id": "0e26eb68",
   "metadata": {},
   "outputs": [],
   "source": [
    "risk_retun_table.at['Annualized Return', 'Strategy'] = ann_ret\n",
    "risk_retun_table.at['Annualzed STD', 'Strategy'] = ann_std"
   ]
  },
  {
   "cell_type": "markdown",
   "id": "5e011bb4",
   "metadata": {},
   "source": [
    "*Risk Free Rate*"
   ]
  },
  {
   "cell_type": "code",
   "execution_count": null,
   "id": "42fa9755",
   "metadata": {},
   "outputs": [],
   "source": [
    "## Based on the 1-year treasury bond for each year we are invested in a portfolio\n",
    "rf_rate = \n",
    "Y = # Number of years invested\n",
    "\n",
    "rfr = (((rf_rate + 1).prod() ** (1/Y)) - 1) * 100"
   ]
  },
  {
   "cell_type": "code",
   "execution_count": null,
   "id": "2a64edf9",
   "metadata": {},
   "outputs": [],
   "source": [
    "risk_retun_table.at['Risk Free Rate', 'Strategy'] = rfr"
   ]
  },
  {
   "cell_type": "markdown",
   "id": "68de94d1",
   "metadata": {},
   "source": [
    "*Sharpre Ratio*"
   ]
  },
  {
   "cell_type": "code",
   "execution_count": null,
   "id": "767768d8",
   "metadata": {},
   "outputs": [],
   "source": [
    "# Sharpe Ratio Definition\n",
    "def sharpe_ratio(returns, rfr):\n",
    "    excess_returns = returns - rfr\n",
    "    \n",
    "    SR = excess_returns.mean() / excess_returns.std()\n",
    "    \n",
    "    return SR"
   ]
  },
  {
   "cell_type": "code",
   "execution_count": null,
   "id": "be474f28",
   "metadata": {},
   "outputs": [],
   "source": [
    "# Calculating the Sharpe Ratio\n",
    "returns = \n",
    "rfr = \n",
    "sharpe_ratio = sharpe_ratio(returns, rfr)\n",
    "\n",
    "# Add Sharpe Ratio to the Table\n",
    "risk_retun_table.at['Sharpe Ratio', 'Strategy'] = sharpe_ratio"
   ]
  },
  {
   "cell_type": "markdown",
   "id": "4124b4a7",
   "metadata": {},
   "source": [
    "*% of Winning Mo.*"
   ]
  },
  {
   "cell_type": "code",
   "execution_count": null,
   "id": "442faab4",
   "metadata": {},
   "outputs": [],
   "source": []
  },
  {
   "cell_type": "code",
   "execution_count": null,
   "id": "2c29ed52",
   "metadata": {},
   "outputs": [],
   "source": [
    "\n",
    "# Add % Win to Table\n",
    "risk_retun_table.at['% of Winning Mo.', 'Strategy'] = win_mo"
   ]
  },
  {
   "cell_type": "markdown",
   "id": "0d45484d",
   "metadata": {},
   "source": [
    "*Max Drawdown*"
   ]
  },
  {
   "cell_type": "code",
   "execution_count": null,
   "id": "5dab21c7",
   "metadata": {},
   "outputs": [],
   "source": []
  },
  {
   "cell_type": "code",
   "execution_count": null,
   "id": "5beaaeab",
   "metadata": {},
   "outputs": [],
   "source": [
    "\n",
    "# Add Max Drawdown to Table \n",
    "risk_retun_table.at['Max Drawdown', 'Strategy'] = max_draw"
   ]
  },
  {
   "cell_type": "markdown",
   "id": "36114345",
   "metadata": {},
   "source": [
    "#### Final Tables"
   ]
  },
  {
   "cell_type": "code",
   "execution_count": null,
   "id": "33cb999f",
   "metadata": {},
   "outputs": [],
   "source": [
    "risk_return_table"
   ]
  },
  {
   "cell_type": "code",
   "execution_count": null,
   "id": "682dd341",
   "metadata": {},
   "outputs": [],
   "source": [
    "reg_table"
   ]
  }
 ],
 "metadata": {
  "kernelspec": {
   "display_name": "Python 3 (ipykernel)",
   "language": "python",
   "name": "python3"
  },
  "language_info": {
   "codemirror_mode": {
    "name": "ipython",
    "version": 3
   },
   "file_extension": ".py",
   "mimetype": "text/x-python",
   "name": "python",
   "nbconvert_exporter": "python",
   "pygments_lexer": "ipython3",
   "version": "3.9.12"
  }
 },
 "nbformat": 4,
 "nbformat_minor": 5
}
