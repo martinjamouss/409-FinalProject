{
 "cells": [
  {
   "cell_type": "markdown",
   "id": "e5753e8d",
   "metadata": {},
   "source": [
    "# ECON 409: Final Project\n",
    "#### Courtney Manhart, Tanner Woods, Lindsay Mahowald, and Martin Jamouss"
   ]
  },
  {
   "cell_type": "code",
   "execution_count": 1,
   "id": "bdbec035",
   "metadata": {},
   "outputs": [],
   "source": [
    "# Import Necessary Packages\n",
    "import yfinance as yf \n",
    "import matplotlib.pyplot as plt\n",
    "import pandas as pd\n",
    "import numpy as np\n",
    "import datetime\n",
    "import io\n",
    "import matplotlib.lines as mlines\n",
    "import statsmodels.formula.api as smf \n",
    "from statsmodels.tsa.arima.model import ARIMA\n",
    "import scipy.stats as st\n",
    "import warnings\n",
    "%matplotlib inline\n",
    "warnings.filterwarnings('ignore')\n",
    "\n",
    "from statsmodels.graphics.tsaplots import plot_acf, plot_pacf\n",
    "from statsmodels.tsa.arima_process import ArmaProcess \n",
    "import pmdarima as pm \n",
    "from statsmodels.graphics.tsaplots import plot_predict"
   ]
  },
  {
   "cell_type": "markdown",
   "id": "c239799e",
   "metadata": {},
   "source": [
    "### Import the Data: Choose one or more series of economic fundamentals to use for generating exchange rate forecasts. The forecasts of the asset price may be directional or point forecasts\n",
    "\n",
    "###### Economic Fundamentals: Inflation, Interest rates, GDP"
   ]
  },
  {
   "cell_type": "code",
   "execution_count": null,
   "id": "42388267",
   "metadata": {},
   "outputs": [],
   "source": []
  },
  {
   "cell_type": "markdown",
   "id": "ed030acc",
   "metadata": {},
   "source": [
    "### Outline Trading Rules based on these forecasts:\n",
    "- Long/short positions\n",
    "- exiting positions"
   ]
  },
  {
   "cell_type": "code",
   "execution_count": null,
   "id": "fe42fc00",
   "metadata": {},
   "outputs": [],
   "source": [
    "### Long / Short Postions:\n",
    "    # Long:\n",
    "    # Short: \n",
    "\n",
    "\n",
    "    \n",
    "    \n",
    "    \n",
    "# Exiting Positions:\n"
   ]
  },
  {
   "cell_type": "markdown",
   "id": "ecd8fbb9",
   "metadata": {},
   "source": [
    "### Optimize at least 2 strategy Hyperparameters:\n",
    "- length of holding period\n",
    "- model hyperparameters (alpha for lasso, number of lags to include, rolling window size, etc)"
   ]
  },
  {
   "cell_type": "code",
   "execution_count": null,
   "id": "0d391094",
   "metadata": {},
   "outputs": [],
   "source": []
  },
  {
   "cell_type": "markdown",
   "id": "61fda956",
   "metadata": {},
   "source": [
    "### Visualize Optimization process using a heatmap"
   ]
  },
  {
   "cell_type": "code",
   "execution_count": null,
   "id": "a174463b",
   "metadata": {},
   "outputs": [],
   "source": [
    "# Heatmaps\n",
    "\n",
    "def heatmap(x, y, metric, values):\n",
    "    \n",
    "    # specify the columns I will be pulling from the results\n",
    "    p2p = values[[x, y, metric]]\n",
    "    \n",
    "    # If p > 2, we need to group \n",
    "    heat = np.round(p2p.groupby([x,y]).max(),1)\n",
    "    heat = heat.unstack()[metric]\n",
    "\n",
    "    # round labels\n",
    "    heat.index = np.round(heat.index,2)\n",
    "    heat.columns = np.round(heat.columns,2)\n",
    "\n",
    "    # make plot\n",
    "    f, ax = plt.subplots(figsize=(15, 8))\n",
    "    ax = sns.heatmap(heat, fmt='.1g')\n",
    "    ax.set_title(\"Heat map of \"+ metric,size = 15)\n",
    "    ax.tick_params(axis='both', which='major', labelsize=10)\n",
    "    ax.set_xlabel(y, size = 15)\n",
    "    ax.set_ylabel(x, size = 15)\n",
    "    ax.collections[0].colorbar.set_label(metric, size = 15)\n",
    "    sns.set(font_scale=1)\n",
    "    plt.show()"
   ]
  },
  {
   "cell_type": "code",
   "execution_count": null,
   "id": "7255be1c",
   "metadata": {},
   "outputs": [],
   "source": [
    "# Heatmap for Hyperparameters\n",
    "heatmap()"
   ]
  },
  {
   "cell_type": "markdown",
   "id": "f3dc2b7f",
   "metadata": {},
   "source": [
    "### Trading Strategy: using the optimal results"
   ]
  },
  {
   "cell_type": "code",
   "execution_count": null,
   "id": "18d40da4",
   "metadata": {},
   "outputs": [],
   "source": []
  },
  {
   "cell_type": "markdown",
   "id": "b169ca28",
   "metadata": {},
   "source": [
    "### Produce Equity Curve over a backtest"
   ]
  },
  {
   "cell_type": "code",
   "execution_count": null,
   "id": "7e52af70",
   "metadata": {},
   "outputs": [],
   "source": []
  },
  {
   "cell_type": "markdown",
   "id": "8fc9d1e2",
   "metadata": {},
   "source": [
    "### Use the Binomial Test (directional forecast) or the DMW Test (point forecast) "
   ]
  },
  {
   "cell_type": "code",
   "execution_count": null,
   "id": "a0f4d0f0",
   "metadata": {},
   "outputs": [],
   "source": []
  },
  {
   "cell_type": "markdown",
   "id": "c1eae200",
   "metadata": {},
   "source": [
    "### Produce table with HFRI Metrics to evaluare the strategy's performance"
   ]
  },
  {
   "cell_type": "markdown",
   "id": "4a9fff82",
   "metadata": {},
   "source": [
    "#### Setting up the Tables:"
   ]
  },
  {
   "cell_type": "code",
   "execution_count": null,
   "id": "7fe492b8",
   "metadata": {},
   "outputs": [],
   "source": [
    "## Risk/Return Table\n",
    "index = ['Geo. Average Monthly', 'Std. Deviation', 'High Month',\n",
    "        'Low Month', 'Annualized Return', 'Annualized STD', \n",
    "        'Risk Free Rate', 'Sharpe Ratio', '% of Winning Mo.',\n",
    "        'Max Drawdown']\n",
    "columns = ['Strategy']\n",
    "risk_return_table = pd.DataFrame(index = index, columns = columns)"
   ]
  },
  {
   "cell_type": "code",
   "execution_count": null,
   "id": "019c85d4",
   "metadata": {},
   "outputs": [],
   "source": [
    "## Regresssion Table:\n",
    "index = ['Alpha', 'Beta', 'Mnt. R-Squared', 'Correlation', \n",
    "         'Up Alpha', 'Up Beta', 'Up R-Squared', 'Down Alpha',\n",
    "        'Down Beta', 'Down R-Squared']\n",
    "columns = ['Strategy']\n",
    "reg_table = pd.DataFrame(index = index, columns = columns)"
   ]
  },
  {
   "cell_type": "markdown",
   "id": "1111d3e0",
   "metadata": {},
   "source": [
    "#### Regression Results"
   ]
  },
  {
   "cell_type": "markdown",
   "id": "d6a56262",
   "metadata": {},
   "source": [
    "*Alpha & Beta*"
   ]
  },
  {
   "cell_type": "code",
   "execution_count": null,
   "id": "1ad3b715",
   "metadata": {},
   "outputs": [],
   "source": []
  },
  {
   "cell_type": "code",
   "execution_count": null,
   "id": "fda128ef",
   "metadata": {},
   "outputs": [],
   "source": [
    "reg_table.at['Alpha', 'Strategy'] = alpha\n",
    "reg_table.at['Beta', 'Strategy'] = beta"
   ]
  },
  {
   "cell_type": "markdown",
   "id": "d285e2f0",
   "metadata": {},
   "source": [
    "*Mnt. R-Squared*"
   ]
  },
  {
   "cell_type": "code",
   "execution_count": null,
   "id": "3c56ea0c",
   "metadata": {},
   "outputs": [],
   "source": []
  },
  {
   "cell_type": "code",
   "execution_count": null,
   "id": "fc15b824",
   "metadata": {},
   "outputs": [],
   "source": [
    "reg_table.at['Mnt. R-Squared', 'Strategy'] = r_sq"
   ]
  },
  {
   "cell_type": "markdown",
   "id": "f62f8bb2",
   "metadata": {},
   "source": [
    "*Correlation*"
   ]
  },
  {
   "cell_type": "code",
   "execution_count": null,
   "id": "c5ee5412",
   "metadata": {},
   "outputs": [],
   "source": []
  },
  {
   "cell_type": "code",
   "execution_count": null,
   "id": "a23c11a1",
   "metadata": {},
   "outputs": [],
   "source": [
    "reg_table.at['Correlation', 'Strategy'] = corr"
   ]
  },
  {
   "cell_type": "markdown",
   "id": "e390036c",
   "metadata": {},
   "source": [
    "*Up Alpha, Up Beta & Up R-Squared*"
   ]
  },
  {
   "cell_type": "code",
   "execution_count": null,
   "id": "3f90517c",
   "metadata": {},
   "outputs": [],
   "source": []
  },
  {
   "cell_type": "code",
   "execution_count": null,
   "id": "39dd036b",
   "metadata": {},
   "outputs": [],
   "source": [
    "reg_table.at['Up Alpha', 'Strategy'] = up_alpha\n",
    "reg_table.at['Up Beta', 'Strategy'] = up_beta\n",
    "reg_table.at['Up R-Squared', 'Strategy'] = up_r_sq"
   ]
  },
  {
   "cell_type": "markdown",
   "id": "35e2d89b",
   "metadata": {},
   "source": [
    "*Down Alpha, Down Beta & Down R-Squared*"
   ]
  },
  {
   "cell_type": "code",
   "execution_count": null,
   "id": "63cab86e",
   "metadata": {},
   "outputs": [],
   "source": []
  },
  {
   "cell_type": "code",
   "execution_count": null,
   "id": "589781d7",
   "metadata": {},
   "outputs": [],
   "source": [
    "reg_table.at['Down Alpha', 'Strategy'] = down_alpha\n",
    "reg_table.at['Down Beta', 'Strategy'] = down_beta\n",
    "reg_table.at['Down R-Squared', 'Strategy'] = dow_r_sq"
   ]
  },
  {
   "cell_type": "markdown",
   "id": "a6c837eb",
   "metadata": {},
   "source": [
    "#### Risk/Return Results"
   ]
  },
  {
   "cell_type": "markdown",
   "id": "f1f179c5",
   "metadata": {},
   "source": [
    "*Geometric Average Monthly & Standard Deviation*"
   ]
  },
  {
   "cell_type": "code",
   "execution_count": null,
   "id": "78e9f8bb",
   "metadata": {},
   "outputs": [],
   "source": []
  },
  {
   "cell_type": "code",
   "execution_count": null,
   "id": "54292be3",
   "metadata": {},
   "outputs": [],
   "source": [
    "risk_retun_table.at['Geo. Average Monthly', 'Strategy'] = geo_avg\n",
    "risk_retun_table.at['Std. Deviation', 'Strategy'] = stdev"
   ]
  },
  {
   "cell_type": "markdown",
   "id": "f6abcdea",
   "metadata": {},
   "source": [
    "*High Month & Low Month*"
   ]
  },
  {
   "cell_type": "code",
   "execution_count": null,
   "id": "431e1d46",
   "metadata": {},
   "outputs": [],
   "source": [
    "risk_retun_table.at['High Month', 'Strategy'] = high_month\n",
    "risk_retun_table.at['Low Month', 'Strategy'] = low_month"
   ]
  },
  {
   "cell_type": "markdown",
   "id": "c49e1da2",
   "metadata": {},
   "source": [
    "*Annualized Return & Standard Deviation*"
   ]
  },
  {
   "cell_type": "code",
   "execution_count": null,
   "id": "0e26eb68",
   "metadata": {},
   "outputs": [],
   "source": [
    "risk_retun_table.at['Annualized Return', 'Strategy'] = ann_ret\n",
    "risk_retun_table.at['Annualzed STD', 'Strategy'] = ann_std"
   ]
  },
  {
   "cell_type": "markdown",
   "id": "5e011bb4",
   "metadata": {},
   "source": [
    "*Risk Free Rate*"
   ]
  },
  {
   "cell_type": "code",
   "execution_count": null,
   "id": "42fa9755",
   "metadata": {},
   "outputs": [],
   "source": []
  },
  {
   "cell_type": "code",
   "execution_count": null,
   "id": "2a64edf9",
   "metadata": {},
   "outputs": [],
   "source": [
    "risk_retun_table.at['Risk Free Rate', 'Strategy'] = rfr"
   ]
  },
  {
   "cell_type": "markdown",
   "id": "68de94d1",
   "metadata": {},
   "source": [
    "*Sharpre Ratio*"
   ]
  },
  {
   "cell_type": "code",
   "execution_count": null,
   "id": "767768d8",
   "metadata": {},
   "outputs": [],
   "source": []
  },
  {
   "cell_type": "code",
   "execution_count": null,
   "id": "be474f28",
   "metadata": {},
   "outputs": [],
   "source": [
    "risk_retun_table.at['Sharpe Ratio', 'Strategy'] = sharpe_ratio"
   ]
  },
  {
   "cell_type": "markdown",
   "id": "4124b4a7",
   "metadata": {},
   "source": [
    "*% of Winning Mo.*"
   ]
  },
  {
   "cell_type": "code",
   "execution_count": null,
   "id": "442faab4",
   "metadata": {},
   "outputs": [],
   "source": []
  },
  {
   "cell_type": "code",
   "execution_count": null,
   "id": "2c29ed52",
   "metadata": {},
   "outputs": [],
   "source": [
    "risk_retun_table.at['% of Winning Mo.', 'Strategy'] = win_mo"
   ]
  },
  {
   "cell_type": "markdown",
   "id": "0d45484d",
   "metadata": {},
   "source": [
    "*Max Drawdown*"
   ]
  },
  {
   "cell_type": "code",
   "execution_count": null,
   "id": "5dab21c7",
   "metadata": {},
   "outputs": [],
   "source": []
  },
  {
   "cell_type": "code",
   "execution_count": null,
   "id": "5beaaeab",
   "metadata": {},
   "outputs": [],
   "source": [
    "risk_retun_table.at['Max Drawdown', 'Strategy'] = max_draw"
   ]
  },
  {
   "cell_type": "markdown",
   "id": "36114345",
   "metadata": {},
   "source": [
    "#### Final Tables"
   ]
  },
  {
   "cell_type": "code",
   "execution_count": null,
   "id": "33cb999f",
   "metadata": {},
   "outputs": [],
   "source": [
    "risk_return_table"
   ]
  },
  {
   "cell_type": "code",
   "execution_count": null,
   "id": "682dd341",
   "metadata": {},
   "outputs": [],
   "source": [
    "reg_table"
   ]
  }
 ],
 "metadata": {
  "kernelspec": {
   "display_name": "Python 3 (ipykernel)",
   "language": "python",
   "name": "python3"
  },
  "language_info": {
   "codemirror_mode": {
    "name": "ipython",
    "version": 3
   },
   "file_extension": ".py",
   "mimetype": "text/x-python",
   "name": "python",
   "nbconvert_exporter": "python",
   "pygments_lexer": "ipython3",
   "version": "3.9.12"
  }
 },
 "nbformat": 4,
 "nbformat_minor": 5
}
